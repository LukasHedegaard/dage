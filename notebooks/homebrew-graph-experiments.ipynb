{
 "cells": [
  {
   "cell_type": "code",
   "execution_count": 74,
   "metadata": {},
   "outputs": [],
   "source": [
    "from __future__ import print_function # So that this notebook becomes both Python 2 and Python 3 compatible\n",
    "import numpy as np\n",
    "import pandas as pd\n",
    "from pprint import pprint\n",
    "# !conda install ipywidgets\n",
    "# !jupyter nbextension enable --py widgetsnbextension\n",
    "# !jupyter labextension install @jupyter-widgets/jupyterlab-manager\n",
    "from ipywidgets import interact, interact_manual\n",
    "from IPython.display import display\n",
    "from IPython.core.interactiveshell import InteractiveShell\n",
    "InteractiveShell.ast_node_interactivity = 'all'\n",
    "import ipywidgets as widgets\n",
    "from vega import VegaLite\n",
    "import matplotlib.pyplot as plt\n",
    "\n",
    "# def Vega(spec):\n",
    "#     bundle = {}\n",
    "#     bundle['application/vnd.vega.v4+json'] = spec\n",
    "#     display(bundle, raw=True)\n",
    "\n",
    "# def VegaLite(spec):\n",
    "#     bundle = {}\n",
    "#     bundle['application/vnd.vegalite.v2+json'] = spec\n",
    "#     display(bundle, raw=True)"
   ]
  },
  {
   "cell_type": "code",
   "execution_count": 33,
   "metadata": {},
   "outputs": [],
   "source": [
    "def euclidean_distance(x1, x2):\n",
    "    return np.sqrt(np.sum(np.square(x1-x2),axis=1))\n",
    "\n",
    "def labels_equal(y1, y2):\n",
    "    return (y1-y2)==0\n",
    "\n",
    "def reshape_input(y_pred, y_true):\n",
    "    xs, xt = y_pred[:,0], y_pred[:,1]\n",
    "    ys, yt = y_true[:,0], y_true[:,1]\n",
    "\n",
    "    X = np.concatenate([xs,xt])\n",
    "    Y = np.concatenate([ys,yt])\n",
    "    n = len(Y)\n",
    "    return X, Y, n\n",
    "\n",
    "def create_weight(Y, mode='pair'):\n",
    "    n = len(Y)\n",
    "    if mode=='pair':\n",
    "        l = 1-labels_equal(Y[:n//2], Y[n//2:])\n",
    "        zrs = np.zeros([int(n/2),int(n/2)])\n",
    "        ind = np.diag(1-l) \n",
    "        ind_p = np.diag(l)\n",
    "        W = np.array(np.concatenate([\n",
    "            np.concatenate([zrs,ind], axis=1),\n",
    "            np.concatenate([ind,zrs], axis=1)\n",
    "        ]))\n",
    "        W_p = np.array(np.concatenate([\n",
    "            np.concatenate([zrs,ind_p], axis=1),\n",
    "            np.concatenate([ind_p,zrs], axis=1)\n",
    "        ]))\n",
    "    elif mode in ['all', 'across']:\n",
    "        YY = np.broadcast_to(Y,shape=(n,n))\n",
    "        W = (YY == YY.T)-np.eye(n)\n",
    "        W_p = 1-W-np.eye(n)\n",
    "        if mode == 'across':\n",
    "            mask = np.repeat(np.repeat(np.array([[0,1],[1,0]]),n//2,axis=0),n//2,axis=1)\n",
    "            W = W * mask\n",
    "            W_p = W_p * mask\n",
    "    else:\n",
    "        raise ValueError(\"mode must be one of ['pair', 'all', 'across']\") \n",
    "    return W, W_p\n",
    "\n"
   ]
  },
  {
   "cell_type": "code",
   "execution_count": 45,
   "metadata": {},
   "outputs": [],
   "source": [
    "def csa(y_pred, y_true, margin = 1):\n",
    "    X, Y, n = reshape_input(y_pred, y_true)\n",
    "    \n",
    "    xs, xt = X[:n//2], X[n//2:]\n",
    "    ys, yt = Y[:n//2], Y[n//2:]\n",
    "\n",
    "    dist = euclidean_distance(xs, xt)\n",
    "    l = 1-labels_equal(ys, yt) # 0 for equals\n",
    "\n",
    "    losses = (1-l) * 0.5*np.square(dist) + (l) * 0.5*np.square(np.maximum(margin - dist, 0))\n",
    "    return losses"
   ]
  },
  {
   "cell_type": "code",
   "execution_count": 119,
   "metadata": {},
   "outputs": [],
   "source": [
    "def graph_csa(y_pred, y_true, margin = 1):\n",
    "    X, Y, n = reshape_input(y_pred, y_true)\n",
    "    W, W_p = create_weight(Y,mode='pair')\n",
    "    l = 1-labels_equal(Y[:n//2], Y[n//2:])\n",
    "\n",
    "    # Degree matrix\n",
    "    D = np.diag(np.sum(W,axis=0))\n",
    "    D_p = np.diag(np.sum(W_p,axis=0))\n",
    "\n",
    "    # Graph Laplacian\n",
    "    L = D - W\n",
    "    B = D_p - W_p\n",
    "\n",
    "    XLX = X.T @ L @ X \n",
    "    XBX = X.T @ B @ X \n",
    "    XBXeps = np.maximum(0,np.square(margin)+XBX-2*np.sqrt(XBX)*margin) *(XBX != 0)\n",
    "\n",
    "    L_s = 0.5*np.linalg.norm(XLX, ord='fro')\n",
    "    L_d = 0.5*np.linalg.norm(XBXeps, ord='fro')\n",
    "#     L_s = 0.5*np.trace(XLX)\n",
    "#     L_d = 0.5*np.trace(XBXeps)\n",
    "\n",
    "    L_csa = (1-l)*L_s + l*L_d\n",
    "    return L_csa"
   ]
  },
  {
   "cell_type": "code",
   "execution_count": 107,
   "metadata": {},
   "outputs": [],
   "source": [
    "def homebrew(y_pred, y_true):\n",
    "    X, Y, n = reshape_input(y_pred, y_true)\n",
    "    W, W_p = create_weight(Y,mode='all')\n",
    "\n",
    "    # epsilon thresholding or nearest neighbor threshold?\n",
    "    # TODO\n",
    "\n",
    "    # Degree matrix\n",
    "    D = np.diag(np.sum(W,axis=0))\n",
    "    D_p = np.diag(np.sum(W_p,axis=0))\n",
    "\n",
    "    # Graph Laplacian\n",
    "    L = D - W\n",
    "    B = D_p - W_p\n",
    "\n",
    "    XLX = X.T @ L @ X \n",
    "    XBX = X.T @ B @ X \n",
    "    # The diagonal of XLX and XBX are the sum of squared differences along the dimension\n",
    "    \n",
    "    print('XLX = \\n',XLX)\n",
    "    print('XLX = \\n',XBX)\n",
    "\n",
    "    L_hb = np.trace(XLX) / np.trace(XBX)\n",
    "    return L_hb"
   ]
  },
  {
   "cell_type": "markdown",
   "metadata": {},
   "source": [
    "# Experiments"
   ]
  },
  {
   "cell_type": "code",
   "execution_count": 91,
   "metadata": {},
   "outputs": [],
   "source": [
    "def scatter(XY):\n",
    "    return VegaLite({\n",
    "        \"$schema\": \"https://vega.github.io/schema/vega-lite/v2.json\",\n",
    "        \"description\": \"A simple bar chart with embedded data.\",\n",
    "        \"width\": 300,\n",
    "        \"height\": 300,\n",
    "        \"data\": {\n",
    "            \"values\": [{'x1':xy[0],'x2':xy[1],'y':xy[2]} for xy in list(XY)],\n",
    "            \"on\": [\n",
    "                {\"trigger\": \"whichPoint\", \"modify\": \"whichPoint\", \"values\": \"{x1: newPointPosition.u, x2:newPointPosition.v}\"}\n",
    "            ],\n",
    "        },\n",
    "        \"mark\": {\n",
    "            \"type\": \"circle\",\n",
    "            \"size\":50,\n",
    "        },\n",
    "        \"encoding\": {\n",
    "            \"x\": {\n",
    "                \"field\": \"x1\",\n",
    "                \"type\": \"quantitative\",\n",
    "                \"scale\": {\"domain\": [0,5]},\n",
    "            },\n",
    "            \"y\": {\n",
    "                \"field\": \"x2\",\n",
    "                \"type\": \"quantitative\",\n",
    "                \"scale\": {\"domain\": [0,5]}\n",
    "            },\n",
    "            \"color\": {\"field\": \"y\", \"type\": \"nominal\"},\n",
    "        }\n",
    "    })\n",
    "\n",
    "def scatter2(X,Y):\n",
    "    plt.scatter(X[:,0], X[:,1], c=Y, alpha=0.5)\n",
    "    plt.ylim((-3, 3)) \n",
    "    plt.xlim((-2, 5)) \n",
    "    plt.show()"
   ]
  },
  {
   "cell_type": "code",
   "execution_count": 120,
   "metadata": {},
   "outputs": [
    {
     "data": {
      "application/vnd.jupyter.widget-view+json": {
       "model_id": "9e29046b34764f5589634134ac18b0e2",
       "version_major": 2,
       "version_minor": 0
      },
      "text/plain": [
       "interactive(children=(FloatSlider(value=1.0, description='x_in', max=3.0, min=-1.0), FloatSlider(value=1.0, de…"
      ]
     },
     "metadata": {},
     "output_type": "display_data"
    }
   ],
   "source": [
    "@interact\n",
    "def sliders(x_in=1.0, y_in=1.0, x_out=2.0, y_out=1.0):\n",
    "    y_true = np.array([[1,1],\n",
    "                       [2,1]])\n",
    "    y_pred = 1*np.array([[[2,2],[1,2]],\n",
    "                         [[x_out,y_out],[x_in,y_in]]])\n",
    "    X, Y, n = reshape_input(y_pred, y_true)\n",
    "#     XY = np.concatenate([X.T, np.reshape(Y,(4,1)).T]).T\n",
    "    print({\n",
    "        'csa':       \"{0:.2f}\".format(np.sum(csa(y_pred, y_true))),\n",
    "#         'csa_graph': \"{0:.2f}\".format(np.sum(graph_csa(y_pred,y_true))),\n",
    "        'homebrew':  \"{0:.2f}\".format(homebrew(y_pred, y_true))\n",
    "    })\n",
    "    scatter2(X,Y)\n",
    "    "
   ]
  },
  {
   "cell_type": "code",
   "execution_count": 123,
   "metadata": {},
   "outputs": [],
   "source": [
    "θϕLϕθ = 42"
   ]
  },
  {
   "cell_type": "code",
   "execution_count": 124,
   "metadata": {},
   "outputs": [
    {
     "data": {
      "text/plain": [
       "42"
      ]
     },
     "execution_count": 124,
     "metadata": {},
     "output_type": "execute_result"
    }
   ],
   "source": [
    "θϕLϕθ"
   ]
  },
  {
   "cell_type": "code",
   "execution_count": 126,
   "metadata": {},
   "outputs": [
    {
     "data": {
      "text/plain": [
       "True"
      ]
     },
     "execution_count": 126,
     "metadata": {},
     "output_type": "execute_result"
    }
   ],
   "source": [
    "2 != 1"
   ]
  },
  {
   "cell_type": "code",
   "execution_count": null,
   "metadata": {},
   "outputs": [],
   "source": []
  }
 ],
 "metadata": {
  "kernelspec": {
   "display_name": "Python 3",
   "language": "python",
   "name": "python3"
  },
  "language_info": {
   "codemirror_mode": {
    "name": "ipython",
    "version": 3
   },
   "file_extension": ".py",
   "mimetype": "text/x-python",
   "name": "python",
   "nbconvert_exporter": "python",
   "pygments_lexer": "ipython3",
   "version": "3.6.9"
  }
 },
 "nbformat": 4,
 "nbformat_minor": 4
}
