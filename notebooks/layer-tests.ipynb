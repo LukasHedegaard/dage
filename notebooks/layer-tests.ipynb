{
 "cells": [
  {
   "cell_type": "markdown",
   "metadata": {},
   "source": [
    "# Test of custom layers"
   ]
  },
  {
   "cell_type": "code",
   "execution_count": 1,
   "metadata": {},
   "outputs": [],
   "source": [
    "import numpy as np\n",
    "from functools import reduce\n",
    "from operator import mul\n",
    "import tensorflow as tf\n",
    "tf.enable_eager_execution() \n",
    "m = tf.compat.v2.math\n",
    "keras = tf.compat.v2.keras\n",
    "K = keras.backend"
   ]
  },
  {
   "cell_type": "code",
   "execution_count": 38,
   "metadata": {},
   "outputs": [],
   "source": [
    "# test setup\n",
    "def test_layer(make_layer):\n",
    "    VALUE_SHAPE = (3,)\n",
    "    \n",
    "    in_vals = [\n",
    "        np.array([\n",
    "            np.reshape(np.arange(0,reduce(mul, VALUE_SHAPE), dtype=np.dtype('float32')), VALUE_SHAPE)-10,\n",
    "            np.reshape(np.arange(0,reduce(mul, VALUE_SHAPE), dtype=np.dtype('float32')), VALUE_SHAPE),\n",
    "        ]),\n",
    "        np.array([\n",
    "            np.ones(VALUE_SHAPE, dtype=np.dtype('float32')),\n",
    "            np.zeros(VALUE_SHAPE, dtype=np.dtype('float32'))\n",
    "        ])\n",
    "    ]\n",
    "    \n",
    "    out_val = make_layer()(in_vals)\n",
    "    return out_val"
   ]
  },
  {
   "cell_type": "code",
   "execution_count": 39,
   "metadata": {},
   "outputs": [
    {
     "data": {
      "text/plain": [
       "array([[17.378147],\n",
       "       [ 2.236068]], dtype=float32)"
      ]
     },
     "execution_count": 39,
     "metadata": {},
     "output_type": "execute_result"
    }
   ],
   "source": [
    "# CCSA-keras implementation\n",
    "\n",
    "def euclidean_distance(vects):\n",
    "    eps = 1e-08\n",
    "    x, y = vects\n",
    "    return K.sqrt(K.maximum(K.sum(K.square(x - y), axis=1, keepdims=True), eps))\n",
    "\n",
    "def eucl_dist_output_shape(shapes):\n",
    "    shape1, shape2 = shapes\n",
    "    return (shape1[0], 1)\n",
    "\n",
    "def make_euc_dist():\n",
    "    return keras.layers.Lambda(\n",
    "        euclidean_distance, \n",
    "        output_shape=eucl_dist_output_shape, name='CSA'\n",
    "    )\n",
    "\n",
    "test_layer(make_euc_dist).numpy()"
   ]
  },
  {
   "cell_type": "code",
   "execution_count": 45,
   "metadata": {},
   "outputs": [
    {
     "data": {
      "text/plain": [
       "array([17.378147,  2.236068], dtype=float32)"
      ]
     },
     "execution_count": 45,
     "metadata": {},
     "output_type": "execute_result"
    }
   ],
   "source": [
    "# custom distance layer implementation\n",
    "M = tf.compat.v2.math\n",
    "class Distance(keras.layers.Layer):\n",
    "    '''\n",
    "    Frobenius Norm of distance between inputs.\n",
    "    Assumes the input two be array-like with two elements\n",
    "    Implementation only supports 1D data\n",
    "    '''\n",
    "    def __init__(self, name=None):\n",
    "        super(Distance, self).__init__(name=name)\n",
    "\n",
    "    def call(self, inputs):\n",
    "        a = inputs[0]\n",
    "        b = inputs[1]\n",
    "        return M.square(M.sqrt(M.reduce_sum(M.square(a-b),axis=1)))\n",
    "\n",
    "M.sqrt(test_layer(Distance).numpy()).numpy()"
   ]
  },
  {
   "cell_type": "code",
   "execution_count": 23,
   "metadata": {},
   "outputs": [],
   "source": [
    "ld = [\n",
    "    {'a':1, 'b':10},\n",
    "    {'a':2, 'b':20},\n",
    "]"
   ]
  },
  {
   "cell_type": "code",
   "execution_count": 27,
   "metadata": {},
   "outputs": [
    {
     "data": {
      "text/plain": [
       "{'a': 3, 'b': 30}"
      ]
     },
     "execution_count": 27,
     "metadata": {},
     "output_type": "execute_result"
    }
   ],
   "source": [
    "reduce(lambda dn, do: {k:dn[k]+do[k] for k in dn},ld, {k:0 for k in ld[0]})"
   ]
  },
  {
   "cell_type": "code",
   "execution_count": 28,
   "metadata": {},
   "outputs": [],
   "source": [
    "ll = [\n",
    "    [1,10],\n",
    "    [2,20]\n",
    "]"
   ]
  },
  {
   "cell_type": "code",
   "execution_count": 30,
   "metadata": {},
   "outputs": [
    {
     "data": {
      "text/plain": [
       "[3, 30]"
      ]
     },
     "execution_count": 30,
     "metadata": {},
     "output_type": "execute_result"
    }
   ],
   "source": [
    "reduce(\n",
    "    lambda n, o: [n[i]+o[i] for i in range(len(ll))],\n",
    "    ll, \n",
    "    [0 for _ in ll[0]]\n",
    ")"
   ]
  },
  {
   "cell_type": "code",
   "execution_count": 101,
   "metadata": {},
   "outputs": [],
   "source": [
    "bs = 2 #batch size\n",
    "es = 3 # embed size\n",
    "xs = tf.constant([[1,2,3],[4,5,6]], dtype=tf.float32)\n",
    "xt = tf.constant([[3,2,1],[4,4,4]], dtype=tf.float32)"
   ]
  },
  {
   "cell_type": "code",
   "execution_count": 109,
   "metadata": {},
   "outputs": [],
   "source": [
    "xs_rpt = tf.broadcast_to(tf.expand_dims(xs, axis=0),shape=(bs,bs,es),name=None)\n",
    "xt_rpt = tf.broadcast_to(tf.expand_dims(xt, axis=1),shape=(bs,bs,es),name=None)"
   ]
  },
  {
   "cell_type": "code",
   "execution_count": 137,
   "metadata": {},
   "outputs": [
    {
     "data": {
      "text/plain": [
       "<tf.Tensor: id=420, shape=(2, 2), dtype=float32, numpy=\n",
       "array([[ 8., 35.],\n",
       "       [14.,  5.]], dtype=float32)>"
      ]
     },
     "execution_count": 137,
     "metadata": {},
     "output_type": "execute_result"
    }
   ],
   "source": [
    "dists = tf.reduce_sum(tf.square(xs_rpt-xt_rpt), axis=2)\n",
    "dists"
   ]
  },
  {
   "cell_type": "code",
   "execution_count": 150,
   "metadata": {},
   "outputs": [],
   "source": [
    "ys = tf.constant([0,1])\n",
    "yt = tf.constant([1,2])"
   ]
  },
  {
   "cell_type": "code",
   "execution_count": 151,
   "metadata": {},
   "outputs": [],
   "source": [
    "ys_rpt = tf.broadcast_to(tf.expand_dims(ys, axis=1), shape=(bs, bs))\n",
    "yt_rpt = tf.broadcast_to(tf.expand_dims(yt, axis=0), shape=(bs, bs))"
   ]
  },
  {
   "cell_type": "code",
   "execution_count": 152,
   "metadata": {},
   "outputs": [
    {
     "data": {
      "text/plain": [
       "(<tf.Tensor: id=468, shape=(2, 2), dtype=float32, numpy=\n",
       " array([[0., 0.],\n",
       "        [1., 0.]], dtype=float32)>,\n",
       " <tf.Tensor: id=470, shape=(2, 2), dtype=float32, numpy=\n",
       " array([[1., 1.],\n",
       "        [0., 1.]], dtype=float32)>)"
      ]
     },
     "execution_count": 152,
     "metadata": {},
     "output_type": "execute_result"
    }
   ],
   "source": [
    "y_same = tf.cast(tf.equal(ys_rpt,yt_rpt), tf.float32)\n",
    "y_diff = tf.cast(tf.not_equal(ys_rpt,yt_rpt), tf.float32)\n",
    "y_same, y_diff"
   ]
  },
  {
   "cell_type": "code",
   "execution_count": 153,
   "metadata": {},
   "outputs": [
    {
     "data": {
      "text/plain": [
       "(<tf.Tensor: id=473, shape=(2, 2), dtype=float32, numpy=\n",
       " array([[ 0.,  0.],\n",
       "        [14.,  0.]], dtype=float32)>,\n",
       " <tf.Tensor: id=474, shape=(2, 2), dtype=float32, numpy=\n",
       " array([[ 8., 35.],\n",
       "        [ 0.,  5.]], dtype=float32)>)"
      ]
     },
     "execution_count": 153,
     "metadata": {},
     "output_type": "execute_result"
    }
   ],
   "source": [
    "intra_cls_dists = tf.multiply(sum_square, y_same)\n",
    "inter_cls_dists = tf.multiply(sum_square, y_diff)\n",
    "intra_cls_dists, inter_cls_dists"
   ]
  },
  {
   "cell_type": "code",
   "execution_count": 154,
   "metadata": {},
   "outputs": [
    {
     "data": {
      "text/plain": [
       "<tf.Tensor: id=480, shape=(2, 2), dtype=float32, numpy=\n",
       "array([[35., 35.],\n",
       "       [14., 14.]], dtype=float32)>"
      ]
     },
     "execution_count": 154,
     "metadata": {},
     "output_type": "execute_result"
    }
   ],
   "source": [
    "max_dists = tf.reduce_max(dists, axis=1, keepdims=True)\n",
    "max_dists = tf.broadcast_to(max_dists, shape=(bs, bs))\n",
    "max_dists"
   ]
  },
  {
   "cell_type": "code",
   "execution_count": 155,
   "metadata": {},
   "outputs": [
    {
     "data": {
      "text/plain": [
       "(<tf.Tensor: id=468, shape=(2, 2), dtype=float32, numpy=\n",
       " array([[0., 0.],\n",
       "        [1., 0.]], dtype=float32)>,\n",
       " <tf.Tensor: id=480, shape=(2, 2), dtype=float32, numpy=\n",
       " array([[35., 35.],\n",
       "        [14., 14.]], dtype=float32)>,\n",
       " <tf.Tensor: id=474, shape=(2, 2), dtype=float32, numpy=\n",
       " array([[ 8., 35.],\n",
       "        [ 0.,  5.]], dtype=float32)>)"
      ]
     },
     "execution_count": 155,
     "metadata": {},
     "output_type": "execute_result"
    }
   ],
   "source": [
    "y_same, max_dists, inter_cls_dists"
   ]
  },
  {
   "cell_type": "code",
   "execution_count": 158,
   "metadata": {},
   "outputs": [
    {
     "data": {
      "text/plain": [
       "<tf.Tensor: id=491, shape=(2, 2), dtype=float32, numpy=\n",
       "array([[ 8., 35.],\n",
       "       [14.,  5.]], dtype=float32)>"
      ]
     },
     "execution_count": 158,
     "metadata": {},
     "output_type": "execute_result"
    }
   ],
   "source": [
    "revised_inter_cls_dists = tf.where(tf.cast(y_same, dtype=tf.bool), max_dists, inter_cls_dists)\n",
    "revised_inter_cls_dists"
   ]
  },
  {
   "cell_type": "code",
   "execution_count": 159,
   "metadata": {},
   "outputs": [
    {
     "data": {
      "text/plain": [
       "(<tf.Tensor: id=494, shape=(2,), dtype=float32, numpy=array([ 0., 14.], dtype=float32)>,\n",
       " <tf.Tensor: id=496, shape=(2,), dtype=float32, numpy=array([8., 5.], dtype=float32)>)"
      ]
     },
     "execution_count": 159,
     "metadata": {},
     "output_type": "execute_result"
    }
   ],
   "source": [
    "max_intra_cls_dist = tf.reduce_max(intra_cls_dists, axis=1)\n",
    "min_inter_cls_dist = tf.reduce_min(revised_inter_cls_dists, axis=1)\n",
    "max_intra_cls_dist, min_inter_cls_dist"
   ]
  },
  {
   "cell_type": "code",
   "execution_count": 165,
   "metadata": {},
   "outputs": [
    {
     "data": {
      "text/plain": [
       "<tf.Tensor: id=518, shape=(2,), dtype=float32, numpy=array([0., 9.], dtype=float32)>"
      ]
     },
     "execution_count": 165,
     "metadata": {},
     "output_type": "execute_result"
    }
   ],
   "source": [
    "margin=0\n",
    "tf.nn.relu(max_intra_cls_dist - min_inter_cls_dist + margin)"
   ]
  },
  {
   "cell_type": "code",
   "execution_count": 166,
   "metadata": {},
   "outputs": [
    {
     "data": {
      "text/plain": [
       "5"
      ]
     },
     "execution_count": 166,
     "metadata": {},
     "output_type": "execute_result"
    }
   ],
   "source": [
    "def ho(a):\n",
    "    def fn(b):\n",
    "        return a+b\n",
    "    return fn\n",
    "\n",
    "ho(2)(3)"
   ]
  },
  {
   "cell_type": "code",
   "execution_count": 172,
   "metadata": {},
   "outputs": [],
   "source": [
    "ys=tf.constant([1,2,1])\n",
    "yt=tf.constant([1,2,2])"
   ]
  },
  {
   "cell_type": "code",
   "execution_count": 176,
   "metadata": {},
   "outputs": [
    {
     "data": {
      "text/plain": [
       "<tf.Tensor: id=528, shape=(3,), dtype=float32, numpy=array([1., 1., 0.], dtype=float32)>"
      ]
     },
     "execution_count": 176,
     "metadata": {},
     "output_type": "execute_result"
    }
   ],
   "source": [
    "tf.cast(tf.equal(ys,yt), dtype=tf.float32)"
   ]
  },
  {
   "cell_type": "code",
   "execution_count": 177,
   "metadata": {},
   "outputs": [
    {
     "data": {
      "text/plain": [
       "<tf.Tensor: id=520, shape=(3,), dtype=int32, numpy=array([1, 2, 1], dtype=int32)>"
      ]
     },
     "execution_count": 177,
     "metadata": {},
     "output_type": "execute_result"
    }
   ],
   "source": [
    "ys"
   ]
  },
  {
   "cell_type": "code",
   "execution_count": 183,
   "metadata": {},
   "outputs": [
    {
     "data": {
      "text/plain": [
       "Dimension(3)"
      ]
     },
     "execution_count": 183,
     "metadata": {},
     "output_type": "execute_result"
    }
   ],
   "source": [
    "ys.shape[0]"
   ]
  },
  {
   "cell_type": "code",
   "execution_count": 184,
   "metadata": {},
   "outputs": [
    {
     "data": {
      "text/plain": [
       "TensorShape([Dimension(2), Dimension(3)])"
      ]
     },
     "execution_count": 184,
     "metadata": {},
     "output_type": "execute_result"
    }
   ],
   "source": [
    "tf.compat.v2.TensorShape([2,ys.shape[0]])"
   ]
  },
  {
   "cell_type": "code",
   "execution_count": 208,
   "metadata": {},
   "outputs": [
    {
     "data": {
      "text/plain": [
       "<tf.Tensor: id=638, shape=(2, 2, 3), dtype=int32, numpy=\n",
       "array([[[1, 0, 0],\n",
       "        [0, 1, 0]],\n",
       "\n",
       "       [[1, 0, 0],\n",
       "        [0, 0, 1]]], dtype=int32)>"
      ]
     },
     "execution_count": 208,
     "metadata": {},
     "output_type": "execute_result"
    }
   ],
   "source": [
    "y_true = tf.constant([[[1,0,0],[0,1,0]], [[1,0,0],[0,0,1]]])\n",
    "y_true"
   ]
  },
  {
   "cell_type": "code",
   "execution_count": 219,
   "metadata": {},
   "outputs": [
    {
     "data": {
      "text/plain": [
       "(<tf.Tensor: id=683, shape=(2, 3), dtype=int32, numpy=\n",
       " array([[1, 0, 0],\n",
       "        [0, 1, 0]], dtype=int32)>,\n",
       " <tf.Tensor: id=687, shape=(2, 3), dtype=int32, numpy=\n",
       " array([[1, 0, 0],\n",
       "        [0, 0, 1]], dtype=int32)>)"
      ]
     },
     "execution_count": 219,
     "metadata": {},
     "output_type": "execute_result"
    }
   ],
   "source": [
    "ys, yt = y_true\n",
    "ys, yt"
   ]
  },
  {
   "cell_type": "code",
   "execution_count": 228,
   "metadata": {},
   "outputs": [
    {
     "data": {
      "text/plain": [
       "<tf.Tensor: id=733, shape=(2, 1), dtype=float32, numpy=\n",
       "array([[1.],\n",
       "       [0.]], dtype=float32)>"
      ]
     },
     "execution_count": 228,
     "metadata": {},
     "output_type": "execute_result"
    }
   ],
   "source": [
    "tf.cast(tf.reduce_all(tf.equal(ys,yt),axis=1, keepdims=True), dtype=tf.float32)"
   ]
  },
  {
   "cell_type": "code",
   "execution_count": 216,
   "metadata": {},
   "outputs": [
    {
     "data": {
      "text/plain": [
       "<tf.Tensor: id=673, shape=(2, 3), dtype=int32, numpy=\n",
       "array([[ 0,  0,  0],\n",
       "       [ 0,  1, -1]], dtype=int32)>"
      ]
     },
     "execution_count": 216,
     "metadata": {},
     "output_type": "execute_result"
    }
   ],
   "source": [
    "ys-yt"
   ]
  },
  {
   "cell_type": "code",
   "execution_count": 231,
   "metadata": {},
   "outputs": [
    {
     "data": {
      "text/plain": [
       "<tf.Tensor: id=738, shape=(2, 3), dtype=int32, numpy=\n",
       "array([[1, 0, 0],\n",
       "       [0, 1, 0]], dtype=int32)>"
      ]
     },
     "execution_count": 231,
     "metadata": {},
     "output_type": "execute_result"
    }
   ],
   "source": [
    "K.square(ys)"
   ]
  },
  {
   "cell_type": "markdown",
   "metadata": {},
   "source": [
    "# Graph Embedding"
   ]
  },
  {
   "cell_type": "code",
   "execution_count": 96,
   "metadata": {},
   "outputs": [],
   "source": [
    "xs = tf.constant([[1,2,3],[4,5,6]], dtype=tf.float32)\n",
    "xt = tf.constant([[3,2,1],[4,4,4]], dtype=tf.float32)\n",
    "ys = tf.constant([0,1])\n",
    "yt = tf.constant([0,1])"
   ]
  },
  {
   "cell_type": "code",
   "execution_count": 114,
   "metadata": {},
   "outputs": [],
   "source": [
    "y_true = tf.constant([[[True, False, False], [True, False, False]],\n",
    "                      [[False, False, True], [False, False, True]]])\n",
    "\n",
    "y_pred = tf.constant([[[1,2,3],[4,5,6]],\n",
    "                      [[3,2,1],[4,4,4]]], dtype=tf.float32)"
   ]
  },
  {
   "cell_type": "code",
   "execution_count": 130,
   "metadata": {},
   "outputs": [
    {
     "data": {
      "text/plain": [
       "(<tf.Tensor: id=845, shape=(2,), dtype=int64, numpy=array([0, 2])>,\n",
       " <tf.Tensor: id=852, shape=(2,), dtype=int64, numpy=array([0, 2])>,\n",
       " <tf.Tensor: id=856, shape=(2, 3), dtype=float32, numpy=\n",
       " array([[1., 2., 3.],\n",
       "        [3., 2., 1.]], dtype=float32)>,\n",
       " <tf.Tensor: id=860, shape=(2, 3), dtype=float32, numpy=\n",
       " array([[4., 5., 6.],\n",
       "        [4., 4., 4.]], dtype=float32)>,\n",
       " <tf.Tensor: id=864, shape=(3, 4), dtype=float32, numpy=\n",
       " array([[1., 3., 4., 4.],\n",
       "        [2., 2., 5., 4.],\n",
       "        [3., 1., 6., 4.]], dtype=float32)>)"
      ]
     },
     "execution_count": 130,
     "metadata": {},
     "output_type": "execute_result"
    }
   ],
   "source": [
    "ys = tf.argmax(tf.cast(y_true[:,0], dtype=tf.int32), axis=1)\n",
    "yt = tf.argmax(tf.cast(y_true[:,1], dtype=tf.int32), axis=1)\n",
    "xs = y_pred[:,0]\n",
    "xt = y_pred[:,1]\n",
    "θϕ = tf.transpose(tf.concat([xs,xt], axis=0))\n",
    "ys, yt, xs, xt, θϕ"
   ]
  },
  {
   "cell_type": "code",
   "execution_count": 131,
   "metadata": {},
   "outputs": [
    {
     "data": {
      "text/plain": [
       "2"
      ]
     },
     "execution_count": 131,
     "metadata": {},
     "output_type": "execute_result"
    }
   ],
   "source": [
    "batch_size = ys.shape[0].value\n",
    "batch_size"
   ]
  },
  {
   "cell_type": "code",
   "execution_count": 139,
   "metadata": {},
   "outputs": [
    {
     "data": {
      "text/plain": [
       "(4,\n",
       " <tf.Tensor: id=940, shape=(4,), dtype=int64, numpy=array([0, 2, 0, 2])>,\n",
       " <tf.Tensor: id=944, shape=(4, 4), dtype=int64, numpy=\n",
       " array([[0, 0, 0, 0],\n",
       "        [2, 2, 2, 2],\n",
       "        [0, 0, 0, 0],\n",
       "        [2, 2, 2, 2]])>,\n",
       " <tf.Tensor: id=948, shape=(4, 4), dtype=int64, numpy=\n",
       " array([[0, 2, 0, 2],\n",
       "        [0, 2, 0, 2],\n",
       "        [0, 2, 0, 2],\n",
       "        [0, 2, 0, 2]])>,\n",
       " <tf.Tensor: id=949, shape=(4, 4), dtype=bool, numpy=\n",
       " array([[ True, False,  True, False],\n",
       "        [False,  True, False,  True],\n",
       "        [ True, False,  True, False],\n",
       "        [False,  True, False,  True]])>,\n",
       " <tf.Tensor: id=950, shape=(4, 4), dtype=bool, numpy=\n",
       " array([[False,  True, False,  True],\n",
       "        [ True, False,  True, False],\n",
       "        [False,  True, False,  True],\n",
       "        [ True, False,  True, False]])>)"
      ]
     },
     "execution_count": 139,
     "metadata": {},
     "output_type": "execute_result"
    }
   ],
   "source": [
    "# make_weights: relate_all\n",
    "N = 2*batch_size \n",
    "y = tf.concat([ys, yt], axis = 0) # TODO: verify axis\n",
    "yTe = tf.broadcast_to(tf.expand_dims(y, axis=1), shape=(N, N))\n",
    "eTy = tf.broadcast_to(tf.expand_dims(y, axis=0), shape=(N, N))\n",
    "\n",
    "W = tf.equal(yTe, eTy)\n",
    "Wp = tf.not_equal(yTe, eTy)\n",
    "N, y, yTe, eTy, W, Wp"
   ]
  },
  {
   "cell_type": "code",
   "execution_count": 140,
   "metadata": {},
   "outputs": [
    {
     "data": {
      "text/plain": [
       "(<tf.Tensor: id=969, shape=(4, 4), dtype=bool, numpy=\n",
       " array([[False, False,  True, False],\n",
       "        [False, False, False,  True],\n",
       "        [ True, False, False, False],\n",
       "        [False,  True, False, False]])>,\n",
       " <tf.Tensor: id=970, shape=(4, 4), dtype=bool, numpy=\n",
       " array([[False, False, False,  True],\n",
       "        [False, False,  True, False],\n",
       "        [False,  True, False, False],\n",
       "        [ True, False, False, False]])>)"
      ]
     },
     "execution_count": 140,
     "metadata": {},
     "output_type": "execute_result"
    }
   ],
   "source": [
    "# make weights: relate source-target\n",
    "N = 2*batch_size \n",
    "i = tf.constant([[False,True],[True,False]], dtype=tf.bool)\n",
    "for ax in range(2):\n",
    "    i = keras.backend.repeat_elements(i, N//2, axis=ax)\n",
    "\n",
    "zeros = tf.zeros([N,N],dtype=tf.bool)\n",
    "W = tf.where(i, W, zeros)\n",
    "Wp = tf.where(i, Wp, zeros)\n",
    "W, Wp"
   ]
  },
  {
   "cell_type": "code",
   "execution_count": 154,
   "metadata": {},
   "outputs": [
    {
     "data": {
      "text/plain": [
       "(<tf.Tensor: id=1080, shape=(2, 2), dtype=bool, numpy=\n",
       " array([[ True, False],\n",
       "        [False,  True]])>,\n",
       " <tf.Tensor: id=1082, shape=(2, 2), dtype=bool, numpy=\n",
       " array([[False, False],\n",
       "        [False, False]])>,\n",
       " <tf.Tensor: id=1093, shape=(4, 4), dtype=bool, numpy=\n",
       " array([[False, False,  True, False],\n",
       "        [False, False, False,  True],\n",
       "        [ True, False, False, False],\n",
       "        [False,  True, False, False]])>,\n",
       " <tf.Tensor: id=1099, shape=(4, 4), dtype=bool, numpy=\n",
       " array([[False, False, False, False],\n",
       "        [False, False, False, False],\n",
       "        [False, False, False, False],\n",
       "        [False, False, False, False]])>)"
      ]
     },
     "execution_count": 154,
     "metadata": {},
     "output_type": "execute_result"
    }
   ],
   "source": [
    "# make weights: relate source-target pair\n",
    "eq = tf.linalg.diag(tf.equal(ys, yt))\n",
    "neq = tf.linalg.diag(tf.not_equal(ys, yt))\n",
    "zeros = tf.zeros([batch_size, batch_size],dtype=tf.bool)\n",
    "W = tf.concat([tf.concat([zeros, eq],axis=0),\n",
    "               tf.concat([eq, zeros],axis=0)], axis=1)\n",
    "Wp = tf.concat([tf.concat([zeros, neq],axis=0),\n",
    "                tf.concat([neq, zeros],axis=0)], axis=1)\n",
    "eq, neq, W, Wp"
   ]
  },
  {
   "cell_type": "code",
   "execution_count": 155,
   "metadata": {},
   "outputs": [],
   "source": [
    "W, Wp = tf.cast(W, dtype=tf.float32), tf.cast(Wp, dtype=tf.float32)"
   ]
  },
  {
   "cell_type": "code",
   "execution_count": 156,
   "metadata": {},
   "outputs": [
    {
     "data": {
      "text/plain": [
       "(<tf.Tensor: id=1104, shape=(4, 4), dtype=float32, numpy=\n",
       " array([[1., 0., 0., 0.],\n",
       "        [0., 1., 0., 0.],\n",
       "        [0., 0., 1., 0.],\n",
       "        [0., 0., 0., 1.]], dtype=float32)>,\n",
       " <tf.Tensor: id=1107, shape=(4, 4), dtype=float32, numpy=\n",
       " array([[0., 0., 0., 0.],\n",
       "        [0., 0., 0., 0.],\n",
       "        [0., 0., 0., 0.],\n",
       "        [0., 0., 0., 0.]], dtype=float32)>)"
      ]
     },
     "execution_count": 156,
     "metadata": {},
     "output_type": "execute_result"
    }
   ],
   "source": [
    "D  = tf.linalg.diag(tf.reduce_sum(W,  axis=1)) \n",
    "Dp = tf.linalg.diag(tf.reduce_sum(Wp, axis=1))\n",
    "D, Dp"
   ]
  },
  {
   "cell_type": "code",
   "execution_count": 157,
   "metadata": {},
   "outputs": [
    {
     "data": {
      "text/plain": [
       "(<tf.Tensor: id=1108, shape=(4, 4), dtype=float32, numpy=\n",
       " array([[ 1.,  0., -1.,  0.],\n",
       "        [ 0.,  1.,  0., -1.],\n",
       "        [-1.,  0.,  1.,  0.],\n",
       "        [ 0., -1.,  0.,  1.]], dtype=float32)>,\n",
       " <tf.Tensor: id=1109, shape=(4, 4), dtype=float32, numpy=\n",
       " array([[0., 0., 0., 0.],\n",
       "        [0., 0., 0., 0.],\n",
       "        [0., 0., 0., 0.],\n",
       "        [0., 0., 0., 0.]], dtype=float32)>)"
      ]
     },
     "execution_count": 157,
     "metadata": {},
     "output_type": "execute_result"
    }
   ],
   "source": [
    "L  = tf.subtract(D, W)\n",
    "Lp = tf.subtract(Dp, Wp)\n",
    "L, Lp"
   ]
  },
  {
   "cell_type": "code",
   "execution_count": 145,
   "metadata": {},
   "outputs": [
    {
     "data": {
      "text/plain": [
       "(<tf.Tensor: id=988, shape=(3, 3), dtype=float32, numpy=\n",
       " array([[10., 11., 12.],\n",
       "        [11., 13., 15.],\n",
       "        [12., 15., 18.]], dtype=float32)>,\n",
       " <tf.Tensor: id=990, shape=(3, 3), dtype=float32, numpy=\n",
       " array([[10.,  9.,  8.],\n",
       "        [ 9., 13., 17.],\n",
       "        [ 8., 17., 26.]], dtype=float32)>)"
      ]
     },
     "execution_count": 145,
     "metadata": {},
     "output_type": "execute_result"
    }
   ],
   "source": [
    "θϕLϕθ  = tf.matmul(θϕ, tf.matmul(L,  θϕ, transpose_b=True))\n",
    "θϕLpϕθ = tf.matmul(θϕ, tf.matmul(Lp, θϕ, transpose_b=True))\n",
    "θϕLϕθ, θϕLpϕθ"
   ]
  },
  {
   "cell_type": "code",
   "execution_count": 146,
   "metadata": {},
   "outputs": [
    {
     "data": {
      "text/plain": [
       "<tf.Tensor: id=997, shape=(), dtype=float32, numpy=0.8367347>"
      ]
     },
     "execution_count": 146,
     "metadata": {},
     "output_type": "execute_result"
    }
   ],
   "source": [
    "loss = tf.linalg.trace(θϕLϕθ) / tf.linalg.trace(θϕLpϕθ)\n",
    "loss"
   ]
  },
  {
   "cell_type": "code",
   "execution_count": null,
   "metadata": {},
   "outputs": [],
   "source": []
  }
 ],
 "metadata": {
  "kernelspec": {
   "display_name": "Python 3",
   "language": "python",
   "name": "python3"
  },
  "language_info": {
   "codemirror_mode": {
    "name": "ipython",
    "version": 3
   },
   "file_extension": ".py",
   "mimetype": "text/x-python",
   "name": "python",
   "nbconvert_exporter": "python",
   "pygments_lexer": "ipython3",
   "version": "3.6.9"
  }
 },
 "nbformat": 4,
 "nbformat_minor": 4
}
