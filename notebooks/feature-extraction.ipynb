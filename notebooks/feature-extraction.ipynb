{
 "cells": [
  {
   "cell_type": "code",
   "execution_count": 1,
   "metadata": {},
   "outputs": [],
   "source": [
    "from pathlib import Path\n",
    "from scipy.io import loadmat, savemat\n",
    "import numpy as np"
   ]
  },
  {
   "cell_type": "code",
   "execution_count": 2,
   "metadata": {},
   "outputs": [
    {
     "data": {
      "text/plain": [
       "(dict_keys(['__header__', '__version__', '__globals__', 'fc8', 'probs', 'fc6', 'fc7']),\n",
       " (4096, 1))"
      ]
     },
     "execution_count": 2,
     "metadata": {},
     "output_type": "execute_result"
    }
   ],
   "source": [
    "decaf = loadmat(Path('../datasets/Office31/amazon/decaf/back_pack/frame_0001.mat').absolute())\n",
    "decaf.keys(), decaf['fc6'].shape"
   ]
  },
  {
   "cell_type": "code",
   "execution_count": 99,
   "metadata": {},
   "outputs": [
    {
     "data": {
      "text/plain": [
       "(dict_keys(['__header__', '__version__', '__globals__', 'x', 'y', 'descriptor', 'descriptor_vq', 'histogram']),\n",
       " (1, 800))"
      ]
     },
     "execution_count": 99,
     "metadata": {},
     "output_type": "execute_result"
    }
   ],
   "source": [
    "surf = loadmat(Path('../datasets/Office31/amazon/surf/back_pack/histogram_0001.SURF_SURF.amazon_800.SURF_SURF.mat').absolute())\n",
    "surf.keys(), surf['histogram'].shape"
   ]
  },
  {
   "cell_type": "code",
   "execution_count": 4,
   "metadata": {},
   "outputs": [
    {
     "data": {
      "text/plain": [
       "(dict_keys(['__header__', '__version__', '__globals__', 'data']), (7, 7, 512))"
      ]
     },
     "execution_count": 4,
     "metadata": {},
     "output_type": "execute_result"
    }
   ],
   "source": [
    "vgg16 = loadmat(Path('../datasets/Office31/amazon/vgg16/back_pack/frame_0001.mat').absolute())\n",
    "vgg16.keys(), vgg16['data'].shape"
   ]
  },
  {
   "cell_type": "code",
   "execution_count": 5,
   "metadata": {},
   "outputs": [],
   "source": [
    "mdict = {\n",
    "    'data': np.array([1,2,3,4,5,6])\n",
    "}\n",
    "test_path = Path('test.mat').absolute()\n",
    "savemat(test_path, mdict)"
   ]
  },
  {
   "cell_type": "code",
   "execution_count": 6,
   "metadata": {},
   "outputs": [
    {
     "data": {
      "text/plain": [
       "{'__header__': b'MATLAB 5.0 MAT-file Platform: posix, Created on: Tue Nov 19 10:52:43 2019',\n",
       " '__version__': '1.0',\n",
       " '__globals__': [],\n",
       " 'data': array([[1, 2, 3, 4, 5, 6]])}"
      ]
     },
     "execution_count": 6,
     "metadata": {},
     "output_type": "execute_result"
    }
   ],
   "source": [
    "test = loadmat(test_path)\n",
    "test"
   ]
  },
  {
   "cell_type": "code",
   "execution_count": 41,
   "metadata": {},
   "outputs": [
    {
     "data": {
      "text/plain": [
       "((7, 7, 512), (7, 7, 512))"
      ]
     },
     "execution_count": 41,
     "metadata": {},
     "output_type": "execute_result"
    }
   ],
   "source": [
    "p1 = '../datasets/Office31/amazon/vgg16/mobile_phone/frame_0028.mat'\n",
    "p2 = '../datasets/Office31/amazon/vgg16/mobile_phone/frame_0028.npy'\n",
    "\n",
    "d1 = loadmat(p)['data']\n",
    "d2 = np.load(p2)\n",
    "np.array_equal(d1,d2)\n",
    "d1.shape, d2.shape"
   ]
  },
  {
   "cell_type": "code",
   "execution_count": 54,
   "metadata": {},
   "outputs": [
    {
     "data": {
      "text/plain": [
       "59.54146"
      ]
     },
     "execution_count": 54,
     "metadata": {},
     "output_type": "execute_result"
    }
   ],
   "source": [
    "np.sum(d1[:][0][0])"
   ]
  },
  {
   "cell_type": "code",
   "execution_count": 79,
   "metadata": {},
   "outputs": [
    {
     "data": {
      "text/plain": [
       "59.54146"
      ]
     },
     "execution_count": 79,
     "metadata": {},
     "output_type": "execute_result"
    }
   ],
   "source": [
    "np.sum(d1[0,0,:])"
   ]
  },
  {
   "cell_type": "code",
   "execution_count": 61,
   "metadata": {},
   "outputs": [
    {
     "data": {
      "text/plain": [
       "(7, 7, 512)"
      ]
     },
     "execution_count": 61,
     "metadata": {},
     "output_type": "execute_result"
    }
   ],
   "source": [
    "d1.shape"
   ]
  },
  {
   "cell_type": "code",
   "execution_count": 80,
   "metadata": {},
   "outputs": [
    {
     "data": {
      "text/plain": [
       "array([[[0.02057579, 0.        , 0.        , ..., 0.        ,\n",
       "         0.5388018 , 0.        ],\n",
       "        [0.        , 0.        , 0.        , ..., 0.        ,\n",
       "         0.52469593, 0.        ],\n",
       "        [0.        , 0.28358585, 0.        , ..., 0.        ,\n",
       "         0.        , 0.        ],\n",
       "        ...,\n",
       "        [0.        , 0.        , 0.        , ..., 0.        ,\n",
       "         0.66656876, 0.        ],\n",
       "        [0.10064081, 0.        , 0.        , ..., 0.        ,\n",
       "         0.70417047, 0.        ],\n",
       "        [0.261753  , 0.        , 0.        , ..., 0.        ,\n",
       "         0.7778737 , 0.        ]],\n",
       "\n",
       "       [[0.1963021 , 0.        , 0.        , ..., 0.        ,\n",
       "         0.28826362, 0.        ],\n",
       "        [1.1116289 , 0.        , 0.26582497, ..., 0.        ,\n",
       "         0.25207528, 0.        ],\n",
       "        [2.154913  , 0.        , 0.        , ..., 0.        ,\n",
       "         0.27233317, 0.        ],\n",
       "        ...,\n",
       "        [0.495973  , 0.        , 0.04463586, ..., 0.        ,\n",
       "         0.32646763, 0.        ],\n",
       "        [0.        , 0.        , 0.        , ..., 0.        ,\n",
       "         0.        , 0.        ],\n",
       "        [0.08249823, 0.        , 0.        , ..., 0.        ,\n",
       "         0.45913363, 0.        ]],\n",
       "\n",
       "       [[0.20044471, 0.        , 0.        , ..., 0.        ,\n",
       "         0.17479712, 0.        ],\n",
       "        [0.75391763, 0.        , 0.        , ..., 0.        ,\n",
       "         0.        , 0.        ],\n",
       "        [2.1736562 , 0.        , 0.        , ..., 0.        ,\n",
       "         0.31078857, 0.        ],\n",
       "        ...,\n",
       "        [0.7458318 , 0.        , 0.7063595 , ..., 0.        ,\n",
       "         1.0290557 , 0.        ],\n",
       "        [0.        , 0.        , 0.21502197, ..., 0.        ,\n",
       "         0.        , 0.        ],\n",
       "        [0.        , 0.        , 0.        , ..., 0.        ,\n",
       "         0.11498404, 0.        ]],\n",
       "\n",
       "       ...,\n",
       "\n",
       "       [[0.        , 0.        , 0.        , ..., 0.        ,\n",
       "         0.20643315, 0.        ],\n",
       "        [1.0323516 , 0.        , 0.03764498, ..., 0.        ,\n",
       "         0.        , 0.        ],\n",
       "        [2.4521554 , 0.        , 0.        , ..., 0.        ,\n",
       "         0.48699507, 0.        ],\n",
       "        ...,\n",
       "        [1.6643025 , 0.        , 0.        , ..., 0.        ,\n",
       "         0.        , 0.        ],\n",
       "        [0.15744987, 0.        , 0.25639123, ..., 0.        ,\n",
       "         0.        , 0.        ],\n",
       "        [0.04684249, 0.        , 0.        , ..., 0.        ,\n",
       "         0.42070436, 0.        ]],\n",
       "\n",
       "       [[0.        , 0.        , 0.        , ..., 0.        ,\n",
       "         0.18064061, 0.        ],\n",
       "        [0.7581901 , 0.        , 0.        , ..., 0.        ,\n",
       "         0.        , 0.        ],\n",
       "        [2.0748346 , 0.        , 0.        , ..., 0.        ,\n",
       "         0.        , 0.        ],\n",
       "        ...,\n",
       "        [0.9904655 , 0.        , 0.        , ..., 0.        ,\n",
       "         0.        , 0.        ],\n",
       "        [0.        , 0.        , 0.        , ..., 0.        ,\n",
       "         0.        , 0.        ],\n",
       "        [0.        , 0.        , 0.        , ..., 0.        ,\n",
       "         0.4511585 , 0.        ]],\n",
       "\n",
       "       [[0.        , 0.        , 0.        , ..., 0.        ,\n",
       "         0.68149513, 0.        ],\n",
       "        [0.        , 0.        , 0.        , ..., 0.        ,\n",
       "         0.5875226 , 0.        ],\n",
       "        [0.        , 0.        , 0.        , ..., 0.        ,\n",
       "         0.45970073, 0.        ],\n",
       "        ...,\n",
       "        [0.        , 0.        , 0.        , ..., 0.        ,\n",
       "         0.39889467, 0.        ],\n",
       "        [0.        , 0.        , 0.        , ..., 0.        ,\n",
       "         0.61407197, 0.        ],\n",
       "        [0.        , 0.        , 0.        , ..., 0.        ,\n",
       "         0.6143518 , 0.        ]]], dtype=float32)"
      ]
     },
     "execution_count": 80,
     "metadata": {},
     "output_type": "execute_result"
    }
   ],
   "source": [
    "d1"
   ]
  },
  {
   "cell_type": "code",
   "execution_count": 91,
   "metadata": {},
   "outputs": [],
   "source": [
    "dy = loadmat('../test_y.mat')['data']"
   ]
  },
  {
   "cell_type": "code",
   "execution_count": 92,
   "metadata": {},
   "outputs": [
    {
     "data": {
      "text/plain": [
       "array([[[[0.0939099 , 0.        , 0.        , ..., 0.        ,\n",
       "          0.7547411 , 0.        ],\n",
       "         [0.00607601, 0.        , 0.        , ..., 0.        ,\n",
       "          0.72335327, 0.        ],\n",
       "         [0.        , 0.        , 0.        , ..., 0.        ,\n",
       "          0.7218206 , 0.        ],\n",
       "         ...,\n",
       "         [0.        , 0.        , 0.        , ..., 0.        ,\n",
       "          0.6175269 , 0.        ],\n",
       "         [0.        , 0.        , 0.        , ..., 0.        ,\n",
       "          0.70390815, 0.        ],\n",
       "         [0.        , 0.        , 0.        , ..., 0.        ,\n",
       "          0.74159133, 0.        ]],\n",
       "\n",
       "        [[0.25789556, 0.        , 0.        , ..., 0.        ,\n",
       "          0.5289871 , 0.        ],\n",
       "         [0.19982865, 0.        , 0.        , ..., 0.        ,\n",
       "          0.59394866, 0.        ],\n",
       "         [0.06762771, 0.        , 0.        , ..., 0.0792474 ,\n",
       "          0.64072376, 0.        ],\n",
       "         ...,\n",
       "         [0.12354223, 0.        , 0.1039446 , ..., 0.11193563,\n",
       "          0.55891997, 0.        ],\n",
       "         [0.3172425 , 0.        , 0.07398844, ..., 0.0016133 ,\n",
       "          1.0439078 , 0.        ],\n",
       "         [0.21064202, 0.        , 0.        , ..., 0.        ,\n",
       "          0.81766194, 0.        ]],\n",
       "\n",
       "        [[0.3725229 , 0.        , 0.        , ..., 0.        ,\n",
       "          0.1597768 , 0.        ],\n",
       "         [0.20047027, 0.        , 0.        , ..., 0.        ,\n",
       "          0.08098495, 0.        ],\n",
       "         [0.        , 0.        , 0.        , ..., 0.        ,\n",
       "          0.26196057, 0.        ],\n",
       "         ...,\n",
       "         [0.        , 0.        , 0.        , ..., 0.304482  ,\n",
       "          0.        , 0.        ],\n",
       "         [0.        , 0.        , 0.        , ..., 0.1934544 ,\n",
       "          1.2587205 , 0.        ],\n",
       "         [0.        , 0.        , 0.        , ..., 0.        ,\n",
       "          1.2516153 , 0.        ]],\n",
       "\n",
       "        ...,\n",
       "\n",
       "        [[0.        , 0.        , 0.        , ..., 0.        ,\n",
       "          0.00315684, 0.        ],\n",
       "         [0.        , 0.        , 0.        , ..., 0.        ,\n",
       "          0.        , 0.        ],\n",
       "         [0.        , 0.        , 0.        , ..., 0.        ,\n",
       "          0.43527746, 0.        ],\n",
       "         ...,\n",
       "         [0.        , 0.        , 0.        , ..., 0.        ,\n",
       "          0.        , 0.        ],\n",
       "         [0.        , 0.        , 0.        , ..., 0.        ,\n",
       "          0.        , 0.        ],\n",
       "         [0.        , 0.        , 0.        , ..., 0.        ,\n",
       "          0.6410781 , 0.        ]],\n",
       "\n",
       "        [[0.        , 0.        , 0.        , ..., 0.        ,\n",
       "          0.63926494, 0.        ],\n",
       "         [0.        , 0.        , 0.        , ..., 0.        ,\n",
       "          0.51188785, 0.        ],\n",
       "         [0.        , 0.        , 0.        , ..., 0.        ,\n",
       "          0.5503496 , 0.        ],\n",
       "         ...,\n",
       "         [0.        , 0.        , 0.        , ..., 0.        ,\n",
       "          0.58919144, 0.        ],\n",
       "         [0.        , 0.        , 0.        , ..., 0.        ,\n",
       "          0.77366745, 0.        ],\n",
       "         [0.06245838, 0.        , 0.        , ..., 0.        ,\n",
       "          0.8884088 , 0.        ]],\n",
       "\n",
       "        [[0.        , 0.        , 0.14581019, ..., 0.00992486,\n",
       "          0.91177386, 0.        ],\n",
       "         [0.        , 0.        , 0.        , ..., 0.        ,\n",
       "          0.77454525, 0.        ],\n",
       "         [0.        , 0.        , 0.        , ..., 0.        ,\n",
       "          0.7113164 , 0.        ],\n",
       "         ...,\n",
       "         [0.        , 0.        , 0.        , ..., 0.        ,\n",
       "          0.67519176, 0.        ],\n",
       "         [0.        , 0.        , 0.01043129, ..., 0.        ,\n",
       "          0.68372923, 0.        ],\n",
       "         [0.        , 0.        , 0.03674549, ..., 0.        ,\n",
       "          0.67008245, 0.        ]]]], dtype=float32)"
      ]
     },
     "execution_count": 92,
     "metadata": {},
     "output_type": "execute_result"
    }
   ],
   "source": [
    "dy"
   ]
  },
  {
   "cell_type": "code",
   "execution_count": null,
   "metadata": {},
   "outputs": [],
   "source": []
  }
 ],
 "metadata": {
  "kernelspec": {
   "display_name": "Python 3",
   "language": "python",
   "name": "python3"
  },
  "language_info": {
   "codemirror_mode": {
    "name": "ipython",
    "version": 3
   },
   "file_extension": ".py",
   "mimetype": "text/x-python",
   "name": "python",
   "nbconvert_exporter": "python",
   "pygments_lexer": "ipython3",
   "version": "3.6.9"
  }
 },
 "nbformat": 4,
 "nbformat_minor": 4
}
